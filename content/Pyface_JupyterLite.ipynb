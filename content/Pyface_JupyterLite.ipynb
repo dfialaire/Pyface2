{
  "metadata": {
    "kernelspec": {
      "name": "python",
      "display_name": "Python (Pyodide)",
      "language": "python"
    },
    "language_info": {
      "codemirror_mode": {
        "name": "python",
        "version": 3
      },
      "file_extension": ".py",
      "mimetype": "text/x-python",
      "name": "python",
      "nbconvert_exporter": "python",
      "pygments_lexer": "ipython3",
      "version": "3.8"
    }
  },
  "nbformat_minor": 4,
  "nbformat": 4,
  "cells": [
    {
      "cell_type": "code",
      "source": "%pip install -q ipywidgets\n%pip install -q numpy\n%pip install -q matplotlib",
      "metadata": {
        "trusted": true
      },
      "execution_count": null,
      "outputs": []
    },
    {
      "cell_type": "code",
      "source": "from Les_Fonctions_completes import *\nfrom ipywidgets import widgets\nos.chdir(Lieu)\naffich_image(\"Logo2.jpg\")",
      "metadata": {
        "trusted": true
      },
      "execution_count": null,
      "outputs": []
    },
    {
      "cell_type": "markdown",
      "source": "# Choix N° 1 :  Analyser une série de photos pour enrichir la base de données",
      "metadata": {}
    },
    {
      "cell_type": "code",
      "source": "Analyse_une_serie_de_photo_enrichissement_Base_de_donnees()",
      "metadata": {
        "trusted": true
      },
      "execution_count": null,
      "outputs": []
    },
    {
      "cell_type": "markdown",
      "source": "# Choix N° 2 :  Analyser une nouvelle photo pour enrichir la base de données",
      "metadata": {}
    },
    {
      "cell_type": "code",
      "source": "Analyse_une_nouvelle_photo()",
      "metadata": {
        "trusted": true
      },
      "execution_count": null,
      "outputs": []
    },
    {
      "cell_type": "markdown",
      "source": "# Choix N° 3 :  Visualiser la base de données de photos.",
      "metadata": {}
    },
    {
      "cell_type": "code",
      "source": "Visualiser_Base_de_donnees()",
      "metadata": {
        "tags": [],
        "trusted": true
      },
      "execution_count": null,
      "outputs": []
    },
    {
      "cell_type": "markdown",
      "source": "# Choix N° 4 : Supprimer un élément de la base de données de photos.",
      "metadata": {}
    },
    {
      "cell_type": "code",
      "source": "Supprimer_element_Base_de_donnees()",
      "metadata": {
        "trusted": true
      },
      "execution_count": null,
      "outputs": []
    },
    {
      "cell_type": "markdown",
      "source": "# Choix N° 5 :  Utiliser la base de données pour comparer des photos.",
      "metadata": {
        "tags": []
      }
    },
    {
      "cell_type": "code",
      "source": "Choix_Photo_de_base()",
      "metadata": {
        "trusted": true
      },
      "execution_count": null,
      "outputs": []
    }
  ]
}